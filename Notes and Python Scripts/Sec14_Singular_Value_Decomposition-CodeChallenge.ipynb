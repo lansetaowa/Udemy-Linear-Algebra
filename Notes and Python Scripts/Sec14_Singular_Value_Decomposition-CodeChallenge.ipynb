{
 "cells": [
  {
   "cell_type": "markdown",
   "metadata": {},
   "source": [
    "### Sec 14. Singular Value Decomposition"
   ]
  },
  {
   "cell_type": "markdown",
   "metadata": {},
   "source": [
    "#### 150. compute U from eigendecomposition\n",
    "- reasoning: \n",
    "  - A = U S Vt, then AtA = V S^2 Vt because U is orthogonal, so V can be computed using eigendecomposition of AtA \n",
    "  - Avi = ui si, then ui = Avi / si, so any column of ui can be computed\n",
    "- target: create U using only A,V and L(lambda from eigendecomposition)"
   ]
  },
  {
   "cell_type": "code",
   "execution_count": 1,
   "metadata": {},
   "outputs": [],
   "source": [
    "import numpy as np\n",
    "import matplotlib.pyplot as plt"
   ]
  },
  {
   "cell_type": "code",
   "execution_count": 76,
   "metadata": {},
   "outputs": [
    {
     "name": "stdout",
     "output_type": "stream",
     "text": [
      "[[ 0.26 -0.09 -0.52  0.13 -0.79  0.1 ]\n",
      " [-0.41 -0.72  0.01 -0.25 -0.16 -0.47]\n",
      " [ 0.17 -0.62 -0.1   0.56  0.33  0.39]\n",
      " [-0.54  0.25  0.08  0.74 -0.16 -0.25]\n",
      " [-0.29  0.14 -0.84 -0.1   0.41 -0.06]\n",
      " [-0.6  -0.02  0.08 -0.23 -0.19  0.74]]\n",
      "[[ 0.26 -0.09 -0.52  0.27 -0.3  -0.81]\n",
      " [-0.41 -0.72  0.01 -0.41 -0.05 -0.06]\n",
      " [ 0.17 -0.62 -0.1   0.62 -0.2   0.18]\n",
      " [-0.54  0.25  0.08  0.56 -0.79 -0.25]\n",
      " [-0.29  0.14 -0.84 -0.18  0.18  0.43]\n",
      " [-0.6  -0.02  0.08  0.16  0.47 -0.24]]\n"
     ]
    },
    {
     "data": {
      "image/png": "[encoded data removed]",
      "text/plain": [
       "<Figure size 640x480 with 2 Axes>"
      ]
     },
     "metadata": {},
     "output_type": "display_data"
    }
   ],
   "source": [
    "# create a random matrix\n",
    "m,n = 3,6\n",
    "A = np.random.randn(m,n)\n",
    "\n",
    "# full SVD\n",
    "Us, Ss, Vs = np.linalg.svd(A)\n",
    "print(np.round(Vs.T,2))\n",
    "\n",
    "# eig of AtA\n",
    "L,V = np.linalg.eig(A.T@A)\n",
    "\n",
    "# sort eigen solutions\n",
    "idx = np.argsort(L)[::-1]\n",
    "L = L[idx]\n",
    "V = V[:,idx]\n",
    "print(np.round(V,2))\n",
    "\n",
    "plt.subplot(121)\n",
    "plt.imshow(Vs.T)\n",
    "plt.title('Vs$^T$')\n",
    "plt.subplot(122)\n",
    "plt.imshow(np.real(V))\n",
    "plt.title('V')\n",
    "plt.show()"
   ]
  },
  {
   "cell_type": "markdown",
   "metadata": {},
   "source": [
    "Is Vs.T the same as V? \n",
    "- not really. sometimes signs are flipped in Vs.T and V\n",
    "- even if the signs are same, only the first few columns from the column space will show same, but rest will be null space which won't match"
   ]
  },
  {
   "cell_type": "code",
   "execution_count": 47,
   "metadata": {},
   "outputs": [
    {
     "name": "stdout",
     "output_type": "stream",
     "text": [
      "False\n",
      "[[ 0.    0.    0.76  0.83 -0.67 -0.16]\n",
      " [ 0.   -0.    0.34 -0.62  1.42 -0.2 ]\n",
      " [-0.    0.   -1.32  0.36 -0.04 -0.13]\n",
      " [ 0.   -0.    0.77  0.41 -0.52 -0.43]\n",
      " [-0.    0.    0.32 -0.45  0.62 -0.24]\n",
      " [ 0.   -0.    0.93 -0.12  0.18  0.47]]\n"
     ]
    }
   ],
   "source": [
    "# check if V and Vs are the same\n",
    "print(np.allclose(V, Vs))\n",
    "print(np.round(Vs.T+V,2))"
   ]
  },
  {
   "cell_type": "markdown",
   "metadata": {},
   "source": [
    "What's the relationship between Lambda and Sigma values?\n",
    "- L value is the square of Singular values"
   ]
  },
  {
   "cell_type": "code",
   "execution_count": 48,
   "metadata": {},
   "outputs": [
    {
     "name": "stdout",
     "output_type": "stream",
     "text": [
      "[2.96176125 2.61193563 1.26027637]\n",
      "[2.96176125e+00 2.61193563e+00 1.26027637e+00 2.23084538e-08\n",
      " 9.69032139e-09            nan]\n"
     ]
    },
    {
     "name": "stderr",
     "output_type": "stream",
     "text": [
      "C:\\Users\\elisa\\AppData\\Local\\Temp\\ipykernel_30340\\1187236279.py:3: RuntimeWarning: invalid value encountered in sqrt\n",
      "  print(L**0.5)\n"
     ]
    }
   ],
   "source": [
    "# check the relationship between Ss and L\n",
    "print(Ss)\n",
    "print(L**0.5)"
   ]
  },
  {
   "cell_type": "code",
   "execution_count": 77,
   "metadata": {},
   "outputs": [
    {
     "name": "stdout",
     "output_type": "stream",
     "text": [
      "[[ 0.19585469  0.33197725  0.92273076]\n",
      " [ 0.91094502  0.28678813 -0.29653286]\n",
      " [ 0.36307039 -0.89863434  0.24624423]]\n",
      "[[ 0.19585469  0.33197725  0.92273076]\n",
      " [ 0.91094502  0.28678813 -0.29653286]\n",
      " [ 0.36307039 -0.89863434  0.24624423]]\n"
     ]
    }
   ],
   "source": [
    "# compute U using A,V,L\n",
    "U = np.zeros((m,m))\n",
    "for i in range(m):\n",
    "    U[:,i] = A@V[:,i]/np.sqrt(L[i])\n",
    "\n",
    "print(U)\n",
    "print(Us)"
   ]
  },
  {
   "cell_type": "code",
   "execution_count": 78,
   "metadata": {},
   "outputs": [
    {
     "name": "stdout",
     "output_type": "stream",
     "text": [
      "[[ 0.39  0.66  1.85]\n",
      " [ 1.82  0.57 -0.59]\n",
      " [ 0.73 -1.8   0.49]]\n",
      "[[ 0.  0.  0.]\n",
      " [-0. -0. -0.]\n",
      " [ 0.  0. -0.]]\n"
     ]
    }
   ],
   "source": [
    "# confirm U and Us are the same\n",
    "print(np.round(U+Us,2))\n",
    "print(np.round(U-Us,2))"
   ]
  },
  {
   "cell_type": "markdown",
   "metadata": {},
   "source": [
    "#### 155. When is UVt valid and what's its norm and orthogonality?"
   ]
  },
  {
   "cell_type": "markdown",
   "metadata": {},
   "source": [
    "- When A is square matrix, then U@Vt is valid, where A = USVt\n",
    "- the norm of U@Vt is 1, where A is m*m\n",
    "- if A is symmetric, U = Vt.T, and U@Vt is also identify matrix"
   ]
  },
  {
   "cell_type": "code",
   "execution_count": 101,
   "metadata": {},
   "outputs": [],
   "source": [
    "# create a random matrix\n",
    "m = 6\n",
    "A = np.random.randn(m,m)\n",
    "# A = A@A.T\n",
    "\n",
    "# full SVD\n",
    "U, Ss, Vt = np.linalg.svd(A)"
   ]
  },
  {
   "cell_type": "code",
   "execution_count": 102,
   "metadata": {},
   "outputs": [
    {
     "name": "stdout",
     "output_type": "stream",
     "text": [
      "1.0000000000000002\n",
      "1.0000000000000004\n",
      "1.0000000000000002\n",
      "1.0000000000000004\n",
      "2.449489742783178\n"
     ]
    }
   ],
   "source": [
    "print(np.linalg.norm(U,2))\n",
    "print(np.linalg.norm(Vt,2))\n",
    "print(np.linalg.norm(U@Vt.T,2))\n",
    "print(np.linalg.norm(U@Vt,2))\n",
    "print(np.sqrt(m))"
   ]
  },
  {
   "cell_type": "code",
   "execution_count": 103,
   "metadata": {},
   "outputs": [
    {
     "name": "stdout",
     "output_type": "stream",
     "text": [
      "[[ 1.  0. -0.  0. -0. -0.]\n",
      " [ 0.  1. -0.  0. -0.  0.]\n",
      " [-0. -0.  1.  0.  0.  0.]\n",
      " [ 0.  0.  0.  1.  0.  0.]\n",
      " [-0. -0.  0.  0.  1. -0.]\n",
      " [-0.  0.  0.  0. -0.  1.]]\n",
      "[[ 1. -0. -0. -0. -0.  0.]\n",
      " [ 0.  1. -0. -0. -0.  0.]\n",
      " [ 0.  0.  1.  0.  0. -0.]\n",
      " [ 0.  0. -0.  1. -0. -0.]\n",
      " [ 0.  0. -0.  0.  1. -0.]\n",
      " [-0.  0.  0.  0.  0.  1.]]\n",
      "[[ 1.  0. -0.  0. -0. -0.]\n",
      " [ 0.  1. -0. -0.  0.  0.]\n",
      " [-0. -0.  1.  0.  0. -0.]\n",
      " [ 0. -0.  0.  1.  0.  0.]\n",
      " [-0.  0.  0.  0.  1. -0.]\n",
      " [-0.  0. -0.  0. -0.  1.]]\n"
     ]
    }
   ],
   "source": [
    "print(np.round(U@U.T,2)) # identity \n",
    "print(np.round(U@Vt,2)) # not identity\n",
    "print(np.round(Vt@Vt.T,2)) # identity"
   ]
  },
  {
   "cell_type": "markdown",
   "metadata": {},
   "source": [
    "#### 159. Create a matrix with desired conditional number"
   ]
  },
  {
   "cell_type": "markdown",
   "metadata": {},
   "source": [
    "- conditional number: the ratio between the largest and smallest singular value"
   ]
  },
  {
   "cell_type": "code",
   "execution_count": 127,
   "metadata": {},
   "outputs": [],
   "source": [
    "m,n = 4,8\n",
    "condnum = 42\n",
    "\n",
    "# create singular value matrices\n",
    "s = np.linspace(condnum,1, min(m,n))\n",
    "\n",
    "S = np.zeros((m,n))\n",
    "for i in range(min(m,n)):\n",
    "    S[i,i] = s[i]\n",
    "\n",
    "# create U and V, making them orthogonal with QR decomp\n",
    "U, Ur = np.linalg.qr(np.random.randn(m,m))\n",
    "Vt, Vtr = np.linalg.qr(np.random.randn(n,n))\n",
    "\n",
    "# create A\n",
    "A = U@S@Vt"
   ]
  },
  {
   "cell_type": "code",
   "execution_count": 129,
   "metadata": {},
   "outputs": [
    {
     "data": {
      "image/png": "[encoded data removed]",
      "text/plain": [
       "<Figure size 640x480 with 4 Axes>"
      ]
     },
     "metadata": {},
     "output_type": "display_data"
    }
   ],
   "source": [
    "# plot these matrices\n",
    "plt.subplot(231)\n",
    "plt.imshow(U)\n",
    "plt.title('U')\n",
    "\n",
    "plt.subplot(232)\n",
    "plt.imshow(S)\n",
    "plt.title('$\\Sigma$')\n",
    "\n",
    "plt.subplot(233)\n",
    "plt.imshow(Vt)\n",
    "plt.title('V$^T$')\n",
    "\n",
    "plt.subplot(235)\n",
    "plt.imshow(A)\n",
    "plt.title('A')\n",
    "\n",
    "plt.show()\n"
   ]
  },
  {
   "cell_type": "code",
   "execution_count": 112,
   "metadata": {},
   "outputs": [
    {
     "data": {
      "text/plain": [
       "42.00000000000006"
      ]
     },
     "execution_count": 112,
     "metadata": {},
     "output_type": "execute_result"
    }
   ],
   "source": [
    "# confirm A's conditional number\n",
    "np.linalg.cond(A)"
   ]
  },
  {
   "cell_type": "code",
   "execution_count": 123,
   "metadata": {},
   "outputs": [
    {
     "name": "stdout",
     "output_type": "stream",
     "text": [
      "(16, 16)\n",
      "89.00000000000034\n"
     ]
    }
   ],
   "source": [
    "# wrap into a function\n",
    "def mat_with_cond(m,n,cond):\n",
    "    # create singular value matrices\n",
    "    s = np.linspace(cond,1, min(m,n))\n",
    "\n",
    "    S = np.zeros((m,n))\n",
    "    for i in range(min(m,n)):\n",
    "        S[i,i] = s[i]\n",
    "    \n",
    "    # create U and V, making them orthogonal with QR decomp\n",
    "    U, Ur = np.linalg.qr(np.random.randn(m,m))\n",
    "    Vt, Vtr = np.linalg.qr(np.random.randn(n,n))\n",
    "\n",
    "    # create A\n",
    "    A = U@S@Vt\n",
    "\n",
    "    return A\n",
    "\n",
    "# test\n",
    "A = mat_with_cond(16,16,89)\n",
    "print(A.shape)\n",
    "print(np.linalg.cond(A))"
   ]
  },
  {
   "cell_type": "markdown",
   "metadata": {},
   "source": [
    "#### 160. Why we avoid the inverse"
   ]
  },
  {
   "cell_type": "markdown",
   "metadata": {},
   "source": [
    "- This is to show that the computing error can be huge when comes to big data"
   ]
  },
  {
   "cell_type": "code",
   "execution_count": 163,
   "metadata": {},
   "outputs": [],
   "source": [
    "# repeat for matrices of size 2-70, and conditional number of 10 to 10^12\n",
    "diff = np.zeros((69,50))\n",
    "dims = range(2,72)\n",
    "condnums = np.linspace(10,10**12,50)\n",
    "\n",
    "for i in range(69):\n",
    "    for j in range(50):\n",
    "        dim = dims[i]\n",
    "        condnum = condnums[j]\n",
    "        A = mat_with_cond(dim,dim,condnum)\n",
    "        Ainv = np.linalg.inv(A)\n",
    "\n",
    "        diff[i,j] = np.linalg.norm(A@Ainv-np.eye(dim),2)\n"
   ]
  },
  {
   "cell_type": "code",
   "execution_count": 164,
   "metadata": {},
   "outputs": [
    {
     "data": {
      "image/png": "[encoded data removed]",
      "text/plain": [
       "<Figure size 640x480 with 2 Axes>"
      ]
     },
     "metadata": {},
     "output_type": "display_data"
    }
   ],
   "source": [
    "plt.imshow(diff)\n",
    "plt.colorbar()\n",
    "plt.show()"
   ]
  },
  {
   "cell_type": "code",
   "execution_count": null,
   "metadata": {},
   "outputs": [],
   "source": []
  }
 ],
 "metadata": {
  "kernelspec": {
   "display_name": "base",
   "language": "python",
   "name": "python3"
  },
  "language_info": {
   "codemirror_mode": {
    "name": "ipython",
    "version": 3
   },
   "file_extension": ".py",
   "mimetype": "text/x-python",
   "name": "python",
   "nbconvert_exporter": "python",
   "pygments_lexer": "ipython3",
   "version": "3.10.9"
  }
 },
 "nbformat": 4,
 "nbformat_minor": 2
}
